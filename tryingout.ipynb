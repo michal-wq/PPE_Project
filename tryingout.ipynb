{
 "cells": [
  {
   "cell_type": "code",
   "execution_count": 1,
   "metadata": {},
   "outputs": [
    {
     "name": "stdout",
     "output_type": "stream",
     "text": [
      "       movieId                               title              genres  \\\n",
      "81553   274009                         Night's End              Horror   \n",
      "51201   181397                       Mystification  (no genres listed)   \n",
      "86568   289019                         Under Siege     Action|Thriller   \n",
      "29821   134485                        Sturmtruppen  (no genres listed)   \n",
      "86250   288033  Under the Sea: A Descendants Story             Fantasy   \n",
      "\n",
      "         imdbId  year  \n",
      "81553  14870640  2022  \n",
      "51201   1630645  2010  \n",
      "86568     80710  1980  \n",
      "29821     76777  1976  \n",
      "86250   8884364  2018  \n"
     ]
    }
   ],
   "source": [
    "import pandas as pd\n",
    "\n",
    "\n",
    "class Film:\n",
    "    def __init__(self, movie_id, imdb_id, title, release_year, genres):\n",
    "        self.movie_id = movie_id\n",
    "        self.imdb_id = imdb_id\n",
    "        self.title = title\n",
    "        self.release_year = release_year\n",
    "        self.genres = genres.split(\"|\")\n",
    "\n",
    "\n",
    "df_movies = pd.read_csv(\"../Data/raw/movies.csv\")\n",
    "df_links = pd.read_csv(\"../Data/raw/links.csv\")\n",
    "\n",
    "merged_df = pd.merge(df_movies, df_links, on=\"movieId\")\n",
    "merged_df.drop(columns=[\"tmdbId\"], inplace=True)\n",
    "\n",
    "# Extract the year from the title and create a new column\n",
    "merged_df[\"year\"] = merged_df[\"title\"].str.extract(r\"\\((\\d{4})\\)\")\n",
    "\n",
    "# Remove the year from the title\n",
    "merged_df[\"title\"] = merged_df[\"title\"].str.replace(r\"\\s*\\(\\d{4}\\)\\s*\", \"\", regex=True)\n",
    "\n",
    "print(merged_df.sample(5))"
   ]
  },
  {
   "cell_type": "code",
   "execution_count": null,
   "metadata": {},
   "outputs": [
    {
     "name": "stdout",
     "output_type": "stream",
     "text": [
      "Title: The Case of the Lucky Legs, Year: 1935, Genres: ['Comedy', 'Crime', 'Mystery']\n",
      "Title: The Most Beautiful Day, Year: 2016, Genres: ['Comedy', 'Drama']\n",
      "Title: Snow-White, Year: 1933, Genres: ['(no genres listed)']\n",
      "Title: Quigley Down Under, Year: 1990, Genres: ['Adventure', 'Drama', 'Western']\n",
      "Title: The Creative Brain, Year: 2019, Genres: ['Documentary']\n"
     ]
    }
   ],
   "source": [
    "subset_df = merged_df.sample(5)\n",
    "\n",
    "films_list = []\n",
    "\n",
    "for index, row in subset_df.iterrows():\n",
    "    film = Film(row[\"movieId\"], row[\"imdbId\"], row[\"title\"], row[\"year\"], row[\"genres\"])\n",
    "    films_list.append(film)\n",
    "\n",
    "for film in films_list:\n",
    "    print(f\"Title: {film.title}, Year: {film.release_year}, Genres: {film.genres}\")"
   ]
  }
 ],
 "metadata": {
  "kernelspec": {
   "display_name": "prog&prompt",
   "language": "python",
   "name": "python3"
  },
  "language_info": {
   "codemirror_mode": {
    "name": "ipython",
    "version": 3
   },
   "file_extension": ".py",
   "mimetype": "text/x-python",
   "name": "python",
   "nbconvert_exporter": "python",
   "pygments_lexer": "ipython3",
   "version": "3.10.14"
  }
 },
 "nbformat": 4,
 "nbformat_minor": 2
}
