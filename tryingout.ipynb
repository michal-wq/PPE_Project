{
 "cells": [
  {
   "cell_type": "code",
   "execution_count": 4,
   "metadata": {},
   "outputs": [
    {
     "name": "stdout",
     "output_type": "stream",
     "text": [
      "       movieId                    title                             genres  \\\n",
      "43318   164767      Princess of Thieves  Action|Adventure|Children|Romance   \n",
      "19372   100570               U.S. Seals                    Action|Thriller   \n",
      "40524   158767              Orgasm Inc.                        Documentary   \n",
      "64162   209557                    Nazar                              Drama   \n",
      "26778   127015  The Man Who Lived Again                      Horror|Sci-Fi   \n",
      "\n",
      "        imdbId  year  \n",
      "43318   272790  2001  \n",
      "19372   195366  2000  \n",
      "40524  1439562  2009  \n",
      "64162   102515  1990  \n",
      "26778    27938  1936  \n"
     ]
    }
   ],
   "source": [
    "import pandas as pd\n",
    "\n",
    "\n",
    "class Film:\n",
    "    def __init__(self, movie_id, imdb_id, title, release_year, genres):\n",
    "        self.movie_id = movie_id\n",
    "        self.imdb_id = imdb_id\n",
    "        self.title = title\n",
    "        self.release_year = release_year\n",
    "        self.genres = genres.split(\"|\")\n",
    "\n",
    "\n",
    "df_movies = pd.read_csv(\"./Data/raw/movies.csv\")\n",
    "df_links = pd.read_csv(\"./Data/raw/links.csv\")\n",
    "\n",
    "merged_df = pd.merge(df_movies, df_links, on=\"movieId\")\n",
    "merged_df.drop(columns=[\"tmdbId\"], inplace=True)\n",
    "\n",
    "# Extract the year from the title and create a new column\n",
    "merged_df[\"year\"] = merged_df[\"title\"].str.extract(r\"\\((\\d{4})\\)\")\n",
    "\n",
    "# Remove the year from the title\n",
    "merged_df[\"title\"] = merged_df[\"title\"].str.replace(r\"\\s*\\(\\d{4}\\)\\s*\", \"\", regex=True)\n",
    "\n",
    "print(merged_df.sample(5))"
   ]
  },
  {
   "cell_type": "code",
   "execution_count": 5,
   "metadata": {},
   "outputs": [
    {
     "name": "stdout",
     "output_type": "stream",
     "text": [
      "Title: Black Clover: Sword of the Wizard King, Year: 2023, Genres: ['Action', 'Adventure', 'Animation', 'Fantasy']\n",
      "Title: Killers, Year: 1997, Genres: ['Action', 'Horror', 'Thriller']\n",
      "Title: Woman in the Dark, Year: 1934, Genres: ['Crime', 'Drama']\n",
      "Title: ¡Three Amigos!, Year: 1986, Genres: ['Comedy', 'Western']\n",
      "Title: The Last Mercenary, Year: 2021, Genres: ['Action', 'Comedy']\n"
     ]
    }
   ],
   "source": [
    "subset_df = merged_df.sample(5)\n",
    "\n",
    "films_list = []\n",
    "\n",
    "for index, row in subset_df.iterrows():\n",
    "    film = Film(row[\"movieId\"], row[\"imdbId\"], row[\"title\"], row[\"year\"], row[\"genres\"])\n",
    "    films_list.append(film)\n",
    "\n",
    "for film in films_list:\n",
    "    print(f\"Title: {film.title}, Year: {film.release_year}, Genres: {film.genres}\")"
   ]
  },
  {
   "cell_type": "code",
   "execution_count": 12,
   "metadata": {},
   "outputs": [
    {
     "name": "stdout",
     "output_type": "stream",
     "text": [
      "Title: Tom and Jerry: The Fast and the Furry, Year: 2005, Genres: ['Animation', 'Children', 'Comedy']\n",
      "Title: The Fast and the Fierce, Year: 2017, Genres: ['Action', 'Thriller']\n"
     ]
    }
   ],
   "source": [
    "def get_films_by_title(title_query):\n",
    "    films_list = []\n",
    "\n",
    "    # If the query is None or empty, return an empty list\n",
    "    if not title_query or len(title_query.strip()) == 0:\n",
    "        return films_list\n",
    "\n",
    "    # Read the CSV files\n",
    "    df_movies = pd.read_csv(\"./Data/raw/movies.csv\")\n",
    "    df_links = pd.read_csv(\"./Data/raw/links.csv\")\n",
    "\n",
    "    # Merge the two DataFrames\n",
    "    merged_df = pd.merge(df_movies, df_links, on=\"movieId\")\n",
    "    merged_df.drop(columns=[\"tmdbId\"], inplace=True)\n",
    "\n",
    "    # Extract the year and clean the title\n",
    "    merged_df[\"year\"] = merged_df[\"title\"].str.extract(r\"\\((\\d{4})\\)\")\n",
    "    merged_df[\"title\"] = merged_df[\"title\"].str.replace(\n",
    "        r\"\\s*\\(\\d{4}\\)\\s*\", \"\", regex=True\n",
    "    )\n",
    "\n",
    "    # 🔍 **Filter by the search query (case-insensitive)**\n",
    "    subset_df = merged_df[\n",
    "        merged_df[\"title\"].str.contains(title_query, case=False, na=False)\n",
    "    ]\n",
    "\n",
    "    # Build the list of Film objects\n",
    "    for _, row in subset_df.iterrows():\n",
    "        film = Film(\n",
    "            row[\"movieId\"], row[\"imdbId\"], row[\"title\"], row[\"year\"], row[\"genres\"]\n",
    "        )\n",
    "        films_list.append(film)\n",
    "\n",
    "    # Update the global cache\n",
    "    global film_cache\n",
    "    film_cache = films_list\n",
    "\n",
    "    return films_list\n",
    "\n",
    "for film in get_films_by_title(\"the fast and\"):\n",
    "    print(f\"Title: {film.title}, Year: {film.release_year}, Genres: {film.genres}\")"
   ]
  }
 ],
 "metadata": {
  "kernelspec": {
   "display_name": "prog&prompt",
   "language": "python",
   "name": "python3"
  },
  "language_info": {
   "codemirror_mode": {
    "name": "ipython",
    "version": 3
   },
   "file_extension": ".py",
   "mimetype": "text/x-python",
   "name": "python",
   "nbconvert_exporter": "python",
   "pygments_lexer": "ipython3",
   "version": "3.10.14"
  }
 },
 "nbformat": 4,
 "nbformat_minor": 2
}
