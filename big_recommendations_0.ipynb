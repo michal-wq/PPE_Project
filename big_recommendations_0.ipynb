{
 "cells": [
  {
   "cell_type": "markdown",
   "id": "02a8277b",
   "metadata": {},
   "source": [
    "Datensatz öffnen"
   ]
  },
  {
   "cell_type": "code",
   "execution_count": 1,
   "id": "231cebde",
   "metadata": {},
   "outputs": [
    {
     "name": "stdout",
     "output_type": "stream",
     "text": [
      "   movieId                               title  \\\n",
      "0        1                    Toy Story (1995)   \n",
      "1        2                      Jumanji (1995)   \n",
      "2        3             Grumpier Old Men (1995)   \n",
      "3        4            Waiting to Exhale (1995)   \n",
      "4        5  Father of the Bride Part II (1995)   \n",
      "\n",
      "                                        genres  \n",
      "0  Adventure|Animation|Children|Comedy|Fantasy  \n",
      "1                   Adventure|Children|Fantasy  \n",
      "2                               Comedy|Romance  \n",
      "3                         Comedy|Drama|Romance  \n",
      "4                                       Comedy  \n"
     ]
    }
   ],
   "source": [
    "import pandas as pd\n",
    "df = pd.read_csv('movies.csv')\n",
    "print(df.head())"
   ]
  },
  {
   "cell_type": "markdown",
   "id": "1c56e7e3",
   "metadata": {},
   "source": [
    "Jahr als separates Feature"
   ]
  },
  {
   "cell_type": "code",
   "execution_count": 4,
   "id": "313381ba",
   "metadata": {},
   "outputs": [
    {
     "name": "stdout",
     "output_type": "stream",
     "text": [
      "   movieId                        title  \\\n",
      "0        1                    Toy Story   \n",
      "1        2                      Jumanji   \n",
      "2        3             Grumpier Old Men   \n",
      "3        4            Waiting to Exhale   \n",
      "4        5  Father of the Bride Part II   \n",
      "5        6                         Heat   \n",
      "6        7                      Sabrina   \n",
      "7        8                 Tom and Huck   \n",
      "8        9                 Sudden Death   \n",
      "9       10                    GoldenEye   \n",
      "\n",
      "                                        genres year  \n",
      "0  Adventure|Animation|Children|Comedy|Fantasy  NaN  \n",
      "1                   Adventure|Children|Fantasy  NaN  \n",
      "2                               Comedy|Romance  NaN  \n",
      "3                         Comedy|Drama|Romance  NaN  \n",
      "4                                       Comedy  NaN  \n",
      "5                        Action|Crime|Thriller  NaN  \n",
      "6                               Comedy|Romance  NaN  \n",
      "7                           Adventure|Children  NaN  \n",
      "8                                       Action  NaN  \n",
      "9                    Action|Adventure|Thriller  NaN  \n"
     ]
    }
   ],
   "source": [
    "# Jahr extrahieren in neue Spalte 'year'\n",
    "df['year'] = df['title'].str.extract(r'\\((\\d{4})\\)')\n",
    "\n",
    "# Klammerjahr aus dem Titel entfernen\n",
    "df['title'] = df['title'].str.replace(r'\\s*\\(\\d{4}\\)', '', regex=True).str.strip()\n",
    "\n",
    "# Ergebnis anzeigen\n",
    "print(df.head(10))\n"
   ]
  },
  {
   "cell_type": "markdown",
   "id": "8ea3f34b",
   "metadata": {},
   "source": [
    "Prototyp"
   ]
  },
  {
   "cell_type": "code",
   "execution_count": 5,
   "id": "25e0d12d",
   "metadata": {},
   "outputs": [
    {
     "name": "stderr",
     "output_type": "stream",
     "text": [
      "c:\\Users\\deicc\\miniconda3\\lib\\site-packages\\sklearn\\feature_extraction\\text.py:521: UserWarning: The parameter 'token_pattern' will not be used since 'tokenizer' is not None'\n",
      "  warnings.warn(\n"
     ]
    },
    {
     "name": "stdout",
     "output_type": "stream",
     "text": [
      "Bitte gib 3 Filmtitel ein:\n",
      "\n",
      "🎬 Empfehlungen:\n",
      "                                              title  \\\n",
      "50592              Pokémon the Movie: I Choose You!   \n",
      "29990                                    Inside Out   \n",
      "66022  Naruto Shippuden the Movie: The Will of Fire   \n",
      "76684                                 Kung Fu Mulan   \n",
      "71717           Demon Slayer the Movie: Mugen Train   \n",
      "\n",
      "                                                  genres  year  \n",
      "50592  Adventure|Animation|Children|Comedy|Drama|Fantasy  2017  \n",
      "29990  Adventure|Animation|Children|Comedy|Drama|Fantasy  2015  \n",
      "66022    Action|Adventure|Animation|Comedy|Drama|Fantasy  2009  \n",
      "76684  Action|Adventure|Animation|Children|Drama|Fantasy  2020  \n",
      "71717           Action|Adventure|Animation|Drama|Fantasy  2020  \n"
     ]
    }
   ],
   "source": [
    "import pandas as pd\n",
    "from sklearn.feature_extraction.text import CountVectorizer\n",
    "from sklearn.metrics.pairwise import cosine_similarity\n",
    "\n",
    "# Daten vorbereiten\n",
    "df = pd.read_csv('movies.csv')\n",
    "df['year'] = df['title'].str.extract(r'\\((\\d{4})\\)')\n",
    "df['title'] = df['title'].str.replace(r'\\s*\\(\\d{4}\\)', '', regex=True).str.strip()\n",
    "df['year'] = df['year'].astype('Int64')\n",
    "\n",
    "# Genre-Vektoren (einmalig!)\n",
    "vectorizer = CountVectorizer(tokenizer=lambda x: x.split('|'))\n",
    "genre_matrix = vectorizer.fit_transform(df['genres'])\n",
    "\n",
    "# Mapping von Titel zu Index\n",
    "title_to_index = {t.lower(): i for i, t in enumerate(df['title'])}\n",
    "\n",
    "# User Input (3 Titel)\n",
    "print(\"Bitte gib 3 Filmtitel ein:\")\n",
    "user_inputs = [input(f\"Film {i+1}: \").strip().lower() for i in range(3)]\n",
    "\n",
    "# Finde die Vektoren der eingegebenen Filme\n",
    "valid_indices = []\n",
    "for title in user_inputs:\n",
    "    if title in title_to_index:\n",
    "        valid_indices.append(title_to_index[title])\n",
    "    else:\n",
    "        print(f\"⚠️  Film nicht gefunden: {title}\")\n",
    "\n",
    "if not valid_indices:\n",
    "    print(\"❌ Keine gültigen Filme eingegeben. Abbruch.\")\n",
    "else:\n",
    "    # Durchschnittlicher Genre-Vektor (mit Umwandlung zu dichten Array)\n",
    "    user_vector = genre_matrix[valid_indices].mean(axis=0).A.flatten()\n",
    "\n",
    "    # Ähnlichkeit zwischen User-Vektor und allen Filmen berechnen\n",
    "    similarities = cosine_similarity(user_vector.reshape(1, -1), genre_matrix).flatten()\n",
    "\n",
    "    # Top-N Empfehlungen (ausgenommen Eingaben)\n",
    "    top_n = 5\n",
    "    recommendations = similarities.argsort()[::-1]\n",
    "    recommendations = [i for i in recommendations if i not in valid_indices][:top_n]\n",
    "\n",
    "    print(\"\\n🎬 Empfehlungen:\")\n",
    "    print(df.iloc[recommendations][['title', 'genres', 'year']])\n"
   ]
  },
  {
   "cell_type": "code",
   "execution_count": null,
   "id": "31ea73e5",
   "metadata": {},
   "outputs": [],
   "source": []
  }
 ],
 "metadata": {
  "kernelspec": {
   "display_name": "base",
   "language": "python",
   "name": "python3"
  },
  "language_info": {
   "codemirror_mode": {
    "name": "ipython",
    "version": 3
   },
   "file_extension": ".py",
   "mimetype": "text/x-python",
   "name": "python",
   "nbconvert_exporter": "python",
   "pygments_lexer": "ipython3",
   "version": "3.10.14"
  }
 },
 "nbformat": 4,
 "nbformat_minor": 5
}
